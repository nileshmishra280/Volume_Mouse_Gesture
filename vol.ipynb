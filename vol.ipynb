{
 "cells": [
  {
   "cell_type": "code",
   "execution_count": 2,
   "id": "180b3002-8642-4125-bf1f-6eeeafa23856",
   "metadata": {},
   "outputs": [],
   "source": [
    "import cv2\n",
    "import mediapipe as mp\n",
    "import pyautogui\n",
    "\n",
    "# Initialize webcam and mediapipe\n",
    "webcam = cv2.VideoCapture(0)\n",
    "my_hands = mp.solutions.hands.Hands()\n",
    "drawing_utils = mp.solutions.drawing_utils\n",
    "\n",
    "# Create adjustable OpenCV window\n",
    "cv2.namedWindow(\"Hand volume control using python\", cv2.WINDOW_NORMAL)\n",
    "cv2.resizeWindow(\"Hand volume control using python\", 800, 600)\n",
    "\n",
    "while True:\n",
    "    _, image = webcam.read()\n",
    "    image = cv2.flip(image, 1)\n",
    "    frame_height, frame_width, _ = image.shape\n",
    "    rgb_image = cv2.cvtColor(image, cv2.COLOR_BGR2RGB)\n",
    "    output = my_hands.process(rgb_image)\n",
    "    hands = output.multi_hand_landmarks\n",
    "\n",
    "    x1 = y1 = x2 = y2 = None\n",
    "\n",
    "    if hands:\n",
    "        for hand in hands:\n",
    "            drawing_utils.draw_landmarks(image, hand)\n",
    "            landmarks = hand.landmark\n",
    "            for id, landmark in enumerate(landmarks):\n",
    "                x = int(landmark.x * frame_width)\n",
    "                y = int(landmark.y * frame_height)\n",
    "                if id == 8:  # Index fingertip\n",
    "                    cv2.circle(image, (x, y), 8, (0, 255, 255), -1)\n",
    "                    x1, y1 = x, y\n",
    "                if id == 4:  # Thumb tip\n",
    "                    cv2.circle(image, (x, y), 8, (0, 255, 255), -1)\n",
    "                    x2, y2 = x, y\n",
    "\n",
    "        # Only proceed if both tips are detected\n",
    "        if x1 is not None and x2 is not None:\n",
    "            dist = (((x2 - x1) ** 2 + (y2 - y1) ** 2) ** 0.5) // 4\n",
    "            cv2.line(image, (x1, y1), (x2, y2), (0, 255, 0), 5)\n",
    "            print('Distance:', dist)  # Debug\n",
    "\n",
    "            if dist > 20:\n",
    "                pyautogui.press(\"volumeup\")\n",
    "            else:\n",
    "                pyautogui.press(\"volumedown\")\n",
    "\n",
    "    cv2.imshow(\"Hand volume control using python\", image)\n",
    "    key = cv2.waitKey(10)\n",
    "    if key == 27:  # ESC key\n",
    "        break\n",
    "\n",
    "webcam.release()\n",
    "cv2.destroyAllWindows()\n"
   ]
  },
  {
   "cell_type": "code",
   "execution_count": null,
   "id": "53deee03-574b-4b1d-9c50-6b946bdb7d50",
   "metadata": {},
   "outputs": [],
   "source": []
  },
  {
   "cell_type": "code",
   "execution_count": null,
   "id": "ae44ef90-aad8-45f4-a8c8-190195a4d4f3",
   "metadata": {},
   "outputs": [],
   "source": []
  },
  {
   "cell_type": "code",
   "execution_count": null,
   "id": "b3292422-3890-4685-be32-024b8e8d7f0a",
   "metadata": {},
   "outputs": [],
   "source": []
  }
 ],
 "metadata": {
  "kernelspec": {
   "display_name": "Python [conda env:base] *",
   "language": "python",
   "name": "conda-base-py"
  },
  "language_info": {
   "codemirror_mode": {
    "name": "ipython",
    "version": 3
   },
   "file_extension": ".py",
   "mimetype": "text/x-python",
   "name": "python",
   "nbconvert_exporter": "python",
   "pygments_lexer": "ipython3",
   "version": "3.10.18"
  }
 },
 "nbformat": 4,
 "nbformat_minor": 5
}
